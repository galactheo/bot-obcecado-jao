{
  "nbformat": 4,
  "nbformat_minor": 0,
  "metadata": {
    "colab": {
      "provenance": []
    },
    "kernelspec": {
      "name": "python3",
      "display_name": "Python 3"
    },
    "language_info": {
      "name": "python"
    }
  },
  "cells": [
    {
      "cell_type": "code",
      "source": [
        "from flask import Flask, request\n",
        "from twilio.twiml.messaging_response import MessagingResponse\n",
        "import openai\n",
        "\n",
        "app = Flask(__name__)\n",
        "\n",
        "API_KEY = \"---\"\n",
        "\n",
        "openai.api_key = API_KEY\n",
        "\n",
        "def gerar_resposta(msg):\n",
        "    response = openai.ChatCompletion.create(\n",
        "        model=\"gpt-4o\",\n",
        "        messages=[\n",
        "            {\"role\": \"system\", \"content\":\n",
        "             \"Você é um fã fanático do Jão que conversa de maneira casual. \"\n",
        "             \"Você só menciona Jão se fizer sentido no contexto, tentando forçar um pouco. \"\n",
        "             \"As respostas devem ter até duas frases, podem incluir gírias e citar músicas ou curiosidades do Jão, mas não em todas as frases, apenas na maioria.\"\n",
        "             \"Não repita músicas e gírias imediatamente após uma mensagem\"\n",
        "             \"Se perguntarem o que está fazendo no momento, peça para a pessoa adivinhar o que está ouvindo\"},\n",
        "            {\"role\": \"user\", \"content\": msg}\n",
        "        ]\n",
        "    )\n",
        "\n",
        "    return response[\"choices\"][0][\"message\"][\"content\"].strip()\n",
        "\n",
        "@app.route(\"/bot\", methods=[\"POST\"])\n",
        "def bot():\n",
        "    msg = request.form.get(\"Body\")\n",
        "    print(f\"Mensagem recebida: {msg}\")  # Verifique se está chegando a mensagem\n",
        "    resposta = gerar_resposta(msg)\n",
        "    print(f\"Resposta gerada: {resposta}\")  # Verifique se está gerando a resposta\n",
        "\n",
        "    twiml = MessagingResponse()\n",
        "    twiml.message(resposta)\n",
        "    return str(twiml)\n",
        "\n",
        "if __name__ == \"__main__\":\n",
        "    app.run(port=5000, debug=True)"
      ],
      "metadata": {
        "colab": {
          "base_uri": "https://localhost:8080/"
        },
        "id": "Bo43DoFbT5mC",
        "outputId": "36e37be8-3313-4456-c2dc-90194d3c5cac",
        "collapsed": true
      },
      "execution_count": null,
      "outputs": [
        {
          "output_type": "stream",
          "name": "stdout",
          "text": [
            " * Serving Flask app '__main__'\n",
            " * Debug mode: on\n"
          ]
        },
        {
          "output_type": "stream",
          "name": "stderr",
          "text": [
            "INFO:werkzeug:\u001b[31m\u001b[1mWARNING: This is a development server. Do not use it in a production deployment. Use a production WSGI server instead.\u001b[0m\n",
            " * Running on http://127.0.0.1:5000\n",
            "INFO:werkzeug:\u001b[33mPress CTRL+C to quit\u001b[0m\n",
            "INFO:werkzeug: * Restarting with stat\n"
          ]
        }
      ]
    }
  ]
}